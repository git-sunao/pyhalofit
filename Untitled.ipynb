{
 "cells": [
  {
   "cell_type": "code",
   "execution_count": 1,
   "metadata": {},
   "outputs": [],
   "source": [
    "import numpy as np\n",
    "from scipy.integrate import simps\n",
    "from scipy.interpolate import InterpolatedUnivariateSpline as ius\n",
    "from scipy import integrate\n",
    "from scipy.optimize import fsolve\n",
    "\n",
    "import matplotlib.pyplot as plt\n"
   ]
  },
  {
   "cell_type": "code",
   "execution_count": null,
   "metadata": {},
   "outputs": [],
   "source": []
  },
  {
   "cell_type": "code",
   "execution_count": 16,
   "metadata": {},
   "outputs": [],
   "source": [
    "import model_pt\n",
    "import pyhalofit"
   ]
  },
  {
   "cell_type": "code",
   "execution_count": 17,
   "metadata": {},
   "outputs": [
    {
     "name": "stdout",
     "output_type": "stream",
     "text": [
      "initialize cosmo_class\n",
      "Initialize pklin emulator\n",
      "set up cosmology\n",
      "[[ 0.02225  0.1198   0.6844   3.094    0.9645  -1.     ]]\n",
      "setup cosmology for halofit.\n"
     ]
    }
   ],
   "source": [
    "pt = model_pt.pt()"
   ]
  },
  {
   "cell_type": "code",
   "execution_count": 18,
   "metadata": {},
   "outputs": [],
   "source": [
    "z = 0.251\n",
    "k = np.logspace(-4.0, 1.0, 100)\n",
    "pklin = pt.get_pklin_from_z(k, z)"
   ]
  },
  {
   "cell_type": "code",
   "execution_count": 19,
   "metadata": {},
   "outputs": [
    {
     "data": {
      "image/png": "[encoded data removed]",
      "text/plain": [
       "<Figure size 432x288 with 1 Axes>"
      ]
     },
     "metadata": {
      "needs_background": "light"
     },
     "output_type": "display_data"
    }
   ],
   "source": [
    "plt.figure()\n",
    "plt.loglog(k,pklin)\n",
    "plt.show()"
   ]
  },
  {
   "cell_type": "code",
   "execution_count": null,
   "metadata": {},
   "outputs": [],
   "source": []
  },
  {
   "cell_type": "code",
   "execution_count": null,
   "metadata": {},
   "outputs": [],
   "source": []
  },
  {
   "cell_type": "code",
   "execution_count": null,
   "metadata": {},
   "outputs": [],
   "source": [
    "import "
   ]
  },
  {
   "cell_type": "code",
   "execution_count": null,
   "metadata": {},
   "outputs": [],
   "source": []
  },
  {
   "cell_type": "code",
   "execution_count": 12,
   "metadata": {},
   "outputs": [],
   "source": []
  },
  {
   "cell_type": "code",
   "execution_count": 13,
   "metadata": {},
   "outputs": [
    {
     "name": "stdout",
     "output_type": "stream",
     "text": [
      "CPU times: user 41 µs, sys: 1 µs, total: 42 µs\n",
      "Wall time: 47.2 µs\n"
     ]
    }
   ],
   "source": [
    "%%time\n",
    "halofit = pyhalofit.halofit()"
   ]
  },
  {
   "cell_type": "code",
   "execution_count": 14,
   "metadata": {},
   "outputs": [
    {
     "name": "stdout",
     "output_type": "stream",
     "text": [
      "CPU times: user 3.06 ms, sys: 62 µs, total: 3.12 ms\n",
      "Wall time: 3.16 ms\n"
     ]
    }
   ],
   "source": [
    "%%time\n",
    "cosmo_dict = {\"Omega_de0\":0.6844, \"Omega_K\":0.0, \"w0\":-1.0, \"wa\":0.0, \"h\":0.6774}\n",
    "halofit.set_cosmology(cosmo_dict)\n",
    "\n",
    "halofit.set_pklin(k, pklin, 0.251)\n",
    "\n",
    "pkhalo = halofit.get_pkhalo()"
   ]
  },
  {
   "cell_type": "code",
   "execution_count": 15,
   "metadata": {},
   "outputs": [
    {
     "data": {
      "image/png": "[encoded data removed]",
      "text/plain": [
       "<Figure size 432x288 with 1 Axes>"
      ]
     },
     "metadata": {
      "needs_background": "light"
     },
     "output_type": "display_data"
    }
   ],
   "source": [
    "plt.figure()\n",
    "plt.loglog(k,pklin)\n",
    "plt.loglog(k,pkhalo)\n",
    "plt.show()"
   ]
  },
  {
   "cell_type": "code",
   "execution_count": null,
   "metadata": {},
   "outputs": [],
   "source": []
  },
  {
   "cell_type": "code",
   "execution_count": 15,
   "metadata": {},
   "outputs": [],
   "source": [
    "from astropy import cosmology"
   ]
  },
  {
   "cell_type": "code",
   "execution_count": 16,
   "metadata": {},
   "outputs": [],
   "source": [
    "cosmo = cosmology.default_cosmology.get()"
   ]
  },
  {
   "cell_type": "code",
   "execution_count": null,
   "metadata": {},
   "outputs": [],
   "source": []
  },
  {
   "cell_type": "code",
   "execution_count": 17,
   "metadata": {},
   "outputs": [],
   "source": [
    "def linearGrowth(z,cosmo=cosmo):\n",
    "    Ode = cosmo.Ode0\n",
    "    Om = 1 - Ode\n",
    "    wde = cosmo.w(0.0)\n",
    "    a_scale = 1./(1.+z)\n",
    "    alpha = -1./(3.*wde)\n",
    "    beta = (wde-1.)/(2.*wde)\n",
    "    gamma = 1.-5./(6.*wde)\n",
    "    x = -Ode/Om * a_scale**(-3.*wde)\n",
    "    res = integrate.quad(lambda t: t**(beta-1.)*(1.-t)** (gamma-beta-1.)*(1.-t*x)**(-alpha), 0, 1.)\n",
    "    return a_scale * res[0]"
   ]
  },
  {
   "cell_type": "code",
   "execution_count": 18,
   "metadata": {},
   "outputs": [
    {
     "name": "stdout",
     "output_type": "stream",
     "text": [
      "CPU times: user 608 µs, sys: 2 µs, total: 610 µs\n",
      "Wall time: 617 µs\n"
     ]
    },
    {
     "data": {
      "text/plain": [
       "0.9411869035090029"
      ]
     },
     "execution_count": 18,
     "metadata": {},
     "output_type": "execute_result"
    }
   ],
   "source": [
    "%%time\n",
    "linearGrowth(0.0)"
   ]
  },
  {
   "cell_type": "code",
   "execution_count": null,
   "metadata": {},
   "outputs": [],
   "source": []
  },
  {
   "cell_type": "code",
   "execution_count": 19,
   "metadata": {},
   "outputs": [],
   "source": [
    "h = cosmo.h"
   ]
  },
  {
   "cell_type": "code",
   "execution_count": 20,
   "metadata": {},
   "outputs": [],
   "source": [
    "k = k*h\n",
    "pklin = pklin/h**3"
   ]
  },
  {
   "cell_type": "code",
   "execution_count": 21,
   "metadata": {},
   "outputs": [
    {
     "data": {
      "image/png": "[encoded data removed]",
      "text/plain": [
       "<Figure size 432x288 with 1 Axes>"
      ]
     },
     "metadata": {
      "needs_background": "light"
     },
     "output_type": "display_data"
    }
   ],
   "source": [
    "plt.figure()\n",
    "plt.loglog(k,pklin)\n",
    "plt.show()"
   ]
  },
  {
   "cell_type": "code",
   "execution_count": null,
   "metadata": {},
   "outputs": [],
   "source": []
  },
  {
   "cell_type": "code",
   "execution_count": 22,
   "metadata": {},
   "outputs": [],
   "source": [
    "Delta_L = pklin*k**3/2.0/np.pi**2"
   ]
  },
  {
   "cell_type": "code",
   "execution_count": 23,
   "metadata": {},
   "outputs": [],
   "source": [
    "def sigma(R):\n",
    "    return simps(Delta_L*np.exp(-(k*R)**2), np.log(k))\n",
    "    \n",
    "def get_R_sigma(z):\n",
    "    # init guess\n",
    "    k_sigma = 10.**(-1.065+4.332e-1*(1.+z)-2.516e-2*pow(1.+z,2)+9.069e-4*pow(1.+z,3))\n",
    "    #print('init guess : ',k_sigma)\n",
    "    \n",
    "    def eq(R):\n",
    "        return sigma(R) - 1.0\n",
    "    \n",
    "    R_sigma = fsolve(eq, [k_sigma])\n",
    "    #print('ans : ',k_sigma)\n",
    "    return R_sigma\n",
    "\n",
    "def get_neff_C(R_sigma):\n",
    "    h = 1e-6\n",
    "    \n",
    "    lnR_0 = np.log(R_sigma)\n",
    "    lnR_p = lnR_0*(1.+h)\n",
    "    lnR_m = lnR_0*(1.-h)\n",
    "    \n",
    "    lnsigma_0 = np.log(sigma(np.exp(lnR_0)))\n",
    "    lnsigma_p = np.log(sigma(np.exp(lnR_p)))\n",
    "    lnsigma_m = np.log(sigma(np.exp(lnR_m)))\n",
    "    print(lnsigma_0,lnsigma_p,lnsigma_m)\n",
    "    \n",
    "    neff = -3. - (lnsigma_p-lnsigma_m)/(lnR_p-lnR_m)\n",
    "    C = - (lnsigma_p - 2.*lnsigma_0 + lnsigma_m)/(lnR_p-lnR_0)**2\n",
    "    return neff, C\n",
    "\n",
    "def get_coeffs(z, neff, C):\n",
    "    w = -1.0\n",
    "    an = 10.**( 1.5222 + 2.8553*neff + 2.3706*neff**2 + 0.9903*neff**3 + 0.2250*neff**4 \n",
    "               - 0.6038*C + 0.1749*Omega_de_at_z(z)*(1.+w) )\n",
    "    bn = 10.**(-0.5642 + 0.5864*neff + 0.5716*neff**2 \n",
    "               - 1.5474*C + 0.2279*Omega_de_at_z(z)*(1.+w))\n",
    "    cn = 10.**( 0.3698 + 2.0404*neff + 0.8161*neff**2 \n",
    "               + 0.5869*C)\n",
    "    gamman = 0.1971 - 0.0843*neff + 0.8460*C\n",
    "    alphan = abs( 6.0835 + 1.3373*neff - 0.1959*neff**2 - 5.5274*C)\n",
    "    betan  = 2.0379 - 0.7354*neff + 0.3157*neff**2 + 1.2490*neff**3 + 0.3980*neff**4 - 0.1682*C\n",
    "    mun    = 0.\n",
    "    nun    = 10.**(5.2105 + 3.6902*neff)\n",
    "    \n",
    "    return (an,bn,cn, gamman,alphan,betan, mun, nun)\n",
    "    \n",
    "def scale_dependence_of_DE_at_z(z):\n",
    "    w0, wa = -1.0, 0.0\n",
    "    a = 1./(1.+z)\n",
    "    return a**(-3.0*(1.+w0+wa)) * np.exp(-3.0*wa*(1.-a))\n",
    "\n",
    "def Omega_de_at_z(z):\n",
    "    Omega_m0 = 1. - cosmo.Ode0\n",
    "    Ode0 = cosmo.Ode0\n",
    "    Omega_K = 0.0\n",
    "    a = 1./(1.+z)\n",
    "    scale_DE = scale_dependence_of_DE_at_z(z)\n",
    "    return Ode0*scale_DE/(Omega_m0/a**2 + Omega_K/a**2 + Ode0*scale_DE)\n",
    "    \n",
    "def Omega_m_at_z(z):\n",
    "    Omega_m0 = 1. - cosmo.Ode0\n",
    "    Omega_K = 0.0\n",
    "    a = 1./(1.+z)\n",
    "    return Omega_m0/(Omega_m0 + Omega_K*a * scale_dependence_of_DE_at_z(z)*a**3)    "
   ]
  },
  {
   "cell_type": "code",
   "execution_count": 24,
   "metadata": {},
   "outputs": [
    {
     "name": "stdout",
     "output_type": "stream",
     "text": [
      "CPU times: user 3.25 ms, sys: 74 µs, total: 3.32 ms\n",
      "Wall time: 3.31 ms\n"
     ]
    }
   ],
   "source": [
    "%%time\n",
    "R_sigma = get_R_sigma(0.0)"
   ]
  },
  {
   "cell_type": "code",
   "execution_count": 25,
   "metadata": {},
   "outputs": [
    {
     "name": "stdout",
     "output_type": "stream",
     "text": [
      "0.0 -1.8224954240919751e-06 1.8224947139592747e-06\n",
      "CPU times: user 1.11 ms, sys: 227 µs, total: 1.34 ms\n",
      "Wall time: 1.24 ms\n"
     ]
    }
   ],
   "source": [
    "%%time\n",
    "neff, C = get_neff_C(R_sigma)"
   ]
  },
  {
   "cell_type": "code",
   "execution_count": 26,
   "metadata": {},
   "outputs": [],
   "source": [
    "an,bn,cn, gamman,alphan,betan, mun, nun = get_coeffs(0.0, neff, C)"
   ]
  },
  {
   "cell_type": "code",
   "execution_count": 27,
   "metadata": {},
   "outputs": [
    {
     "data": {
      "text/plain": [
       "0.6910098821161554"
      ]
     },
     "execution_count": 27,
     "metadata": {},
     "output_type": "execute_result"
    }
   ],
   "source": [
    "Omega_de_at_z(0.0)"
   ]
  },
  {
   "cell_type": "code",
   "execution_count": 28,
   "metadata": {},
   "outputs": [
    {
     "data": {
      "text/plain": [
       "array([-1.72917025])"
      ]
     },
     "execution_count": 28,
     "metadata": {},
     "output_type": "execute_result"
    }
   ],
   "source": [
    "neff"
   ]
  },
  {
   "cell_type": "code",
   "execution_count": 29,
   "metadata": {},
   "outputs": [
    {
     "data": {
      "text/plain": [
       "array([0.34528804])"
      ]
     },
     "execution_count": 29,
     "metadata": {},
     "output_type": "execute_result"
    }
   ],
   "source": [
    "C"
   ]
  },
  {
   "cell_type": "code",
   "execution_count": 30,
   "metadata": {},
   "outputs": [],
   "source": [
    "Omz = Omega_m_at_z(0.0)"
   ]
  },
  {
   "cell_type": "code",
   "execution_count": 31,
   "metadata": {},
   "outputs": [],
   "source": [
    "def f(y):\n",
    "    return y/4.0 + y/8.0\n",
    "f1 =  Omz**-0.0307\n",
    "f2 = Omz**-0.0585\n",
    "f3 = Omz**0.0743"
   ]
  },
  {
   "cell_type": "code",
   "execution_count": 32,
   "metadata": {},
   "outputs": [],
   "source": [
    "y = k*R_sigma\n",
    "Delta_Q = Delta_L * ((1.+Delta_L)**betan)/(1.+alphan*Delta_L) * np.exp(-f(y))\n",
    "Delta_H = an*y**(3.*f1) / (1.+bn*y**f2 + (cn*y*f3)**(3.-gamman))\n",
    "Delta_H*= Delta_H / (1. + mun/y + nun/y**2)"
   ]
  },
  {
   "cell_type": "code",
   "execution_count": 33,
   "metadata": {},
   "outputs": [
    {
     "data": {
      "image/png": "[encoded data removed]",
      "text/plain": [
       "<Figure size 432x288 with 1 Axes>"
      ]
     },
     "metadata": {
      "needs_background": "light"
     },
     "output_type": "display_data"
    }
   ],
   "source": [
    "plt.figure()\n",
    "plt.loglog(k, pklin)\n",
    "plt.loglog(k, (Delta_Q+Delta_H)/k**3 * (2.*np.pi**2) )\n",
    "plt.show()"
   ]
  },
  {
   "cell_type": "code",
   "execution_count": 34,
   "metadata": {},
   "outputs": [
    {
     "data": {
      "image/png": "[encoded data removed]",
      "text/plain": [
       "<Figure size 432x288 with 1 Axes>"
      ]
     },
     "metadata": {
      "needs_background": "light"
     },
     "output_type": "display_data"
    }
   ],
   "source": [
    "plt.figure()\n",
    "plt.loglog(k, pklin)\n",
    "plt.show()"
   ]
  },
  {
   "cell_type": "code",
   "execution_count": 35,
   "metadata": {},
   "outputs": [
    {
     "data": {
      "text/plain": [
       "0.6774"
      ]
     },
     "execution_count": 35,
     "metadata": {},
     "output_type": "execute_result"
    }
   ],
   "source": [
    "h"
   ]
  },
  {
   "cell_type": "code",
   "execution_count": 36,
   "metadata": {},
   "outputs": [
    {
     "data": {
      "text/plain": [
       "array([1.39863166e+03, 1.56464378e+03, 1.75036088e+03, 1.95812188e+03,\n",
       "       2.19054329e+03, 2.45055222e+03, 2.74142319e+03, 3.06681942e+03,\n",
       "       3.43083890e+03, 3.83806607e+03, 4.29362951e+03, 4.80326656e+03,\n",
       "       5.37339553e+03, 6.01119659e+03, 6.72470214e+03, 7.52289801e+03,\n",
       "       8.41583660e+03, 9.41476353e+03, 1.05322592e+04, 1.17823972e+04,\n",
       "       1.31706195e+04, 1.46699272e+04, 1.63263044e+04, 1.81521146e+04,\n",
       "       2.01594172e+04, 2.23597049e+04, 2.47631414e+04, 2.73781549e+04,\n",
       "       3.02104722e+04, 3.32625521e+04, 3.65324475e+04, 4.00129710e+04,\n",
       "       4.36898971e+04, 4.75411323e+04, 5.15345329e+04, 5.56269943e+04,\n",
       "       5.97610734e+04, 6.38651311e+04, 6.78500093e+04, 7.16101086e+04,\n",
       "       7.50184415e+04, 7.79326492e+04, 8.01927161e+04, 8.16319983e+04,\n",
       "       8.20760430e+04, 8.13714336e+04, 7.94017265e+04, 7.61274803e+04,\n",
       "       7.16231872e+04, 6.61023991e+04, 5.99639072e+04, 5.36964978e+04,\n",
       "       4.78907918e+04, 4.29735891e+04, 3.91419738e+04, 3.61342852e+04,\n",
       "       3.32195599e+04, 2.95183015e+04, 2.47777512e+04, 1.99488359e+04,\n",
       "       1.64677094e+04, 1.45917241e+04, 1.28415120e+04, 1.01863837e+04,\n",
       "       8.04383247e+03, 6.98984437e+03, 5.58513125e+03, 4.42827751e+03,\n",
       "       3.65900364e+03, 2.85787341e+03, 2.30004439e+03, 1.81498134e+03,\n",
       "       1.42404449e+03, 1.11833127e+03, 8.73428703e+02, 6.78872367e+02,\n",
       "       5.25771391e+02, 4.05838681e+02, 3.12219589e+02, 2.39451022e+02,\n",
       "       1.83100051e+02, 1.39615919e+02, 1.06175008e+02, 8.05402778e+01,\n",
       "       6.09486855e+01, 4.60180865e+01, 3.46700373e+01, 2.60668167e+01,\n",
       "       1.95602174e+01, 1.46504916e+01, 1.09537135e+01, 8.17592454e+00,\n",
       "       6.09273340e+00, 4.53335127e+00, 3.36813193e+00, 2.49889842e+00,\n",
       "       1.85149429e+00, 1.37004591e+00, 1.01253835e+00, 7.47433775e-01])"
      ]
     },
     "execution_count": 36,
     "metadata": {},
     "output_type": "execute_result"
    }
   ],
   "source": [
    "pklin"
   ]
  },
  {
   "cell_type": "code",
   "execution_count": 37,
   "metadata": {},
   "outputs": [
    {
     "data": {
      "text/plain": [
       "0.6774"
      ]
     },
     "execution_count": 37,
     "metadata": {},
     "output_type": "execute_result"
    }
   ],
   "source": [
    "h"
   ]
  },
  {
   "cell_type": "code",
   "execution_count": 38,
   "metadata": {},
   "outputs": [],
   "source": [
    "l = {\"Omega_de0\":0.6844, \"Omega_K\":0.0,\"w0\":-1.0,\"wa\":0.0,'h':0.6774}"
   ]
  },
  {
   "cell_type": "code",
   "execution_count": 41,
   "metadata": {},
   "outputs": [],
   "source": [
    "for key in l:\n",
    "    exec(\"%s = l['%s']\"%(key,key))"
   ]
  },
  {
   "cell_type": "code",
   "execution_count": 42,
   "metadata": {},
   "outputs": [
    {
     "data": {
      "text/plain": [
       "0.6844"
      ]
     },
     "execution_count": 42,
     "metadata": {},
     "output_type": "execute_result"
    }
   ],
   "source": [
    "Omega_de0"
   ]
  },
  {
   "cell_type": "code",
   "execution_count": null,
   "metadata": {},
   "outputs": [],
   "source": []
  }
 ],
 "metadata": {
  "kernelspec": {
   "display_name": "Python 3",
   "language": "python",
   "name": "python3"
  },
  "language_info": {
   "codemirror_mode": {
    "name": "ipython",
    "version": 3
   },
   "file_extension": ".py",
   "mimetype": "text/x-python",
   "name": "python",
   "nbconvert_exporter": "python",
   "pygments_lexer": "ipython3",
   "version": "3.7.3"
  }
 },
 "nbformat": 4,
 "nbformat_minor": 4
}
